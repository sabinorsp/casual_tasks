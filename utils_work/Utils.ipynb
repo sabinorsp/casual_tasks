{
 "cells": [
  {
   "cell_type": "markdown",
   "id": "8b089991",
   "metadata": {},
   "source": [
    "Troca posição chave-valor : "
   ]
  },
  {
   "cell_type": "code",
   "execution_count": 116,
   "id": "60a1c873",
   "metadata": {},
   "outputs": [],
   "source": [
    "def reverse_dict(dic:dict) -> dict:\n",
    "    ''' \n",
    "        Arg: dic = {key:value}, value is type list;\n",
    "        Return a new dictionary with the reverse original key:value;\n",
    "    '''\n",
    "    return {val: key for key,value in dic.items() for val in value}"
   ]
  },
  {
   "cell_type": "markdown",
   "id": "7de6e56a",
   "metadata": {},
   "source": [
    "Implementação de validação cruzada\n",
    "* A função é semelhante a cross_val_score() do pacote scikit learn. "
   ]
  },
  {
   "cell_type": "code",
   "execution_count": 1,
   "id": "b7b5f768",
   "metadata": {},
   "outputs": [
    {
     "ename": "NameError",
     "evalue": "name 'X_train' is not defined",
     "output_type": "error",
     "traceback": [
      "\u001b[0;31m---------------------------------------------------------------------------\u001b[0m",
      "\u001b[0;31mNameError\u001b[0m                                 Traceback (most recent call last)",
      "Input \u001b[0;32mIn [1]\u001b[0m, in \u001b[0;36m<cell line: 7>\u001b[0;34m()\u001b[0m\n\u001b[1;32m      4\u001b[0m n_splits \u001b[38;5;241m=\u001b[39m \u001b[38;5;241m3\u001b[39m\n\u001b[1;32m      5\u001b[0m skfolds \u001b[38;5;241m=\u001b[39m StratifiedKFold(n_splits)\n\u001b[0;32m----> 7\u001b[0m \u001b[38;5;28;01mfor\u001b[39;00m train_index, test_index \u001b[38;5;129;01min\u001b[39;00m skfolds\u001b[38;5;241m.\u001b[39msplit(\u001b[43mX_train\u001b[49m, y_train):\n\u001b[1;32m      8\u001b[0m     clone_clf \u001b[38;5;241m=\u001b[39m clone(sgd_clf)\n\u001b[1;32m      9\u001b[0m     X_train_folds \u001b[38;5;241m=\u001b[39m X_train[train_index]\n",
      "\u001b[0;31mNameError\u001b[0m: name 'X_train' is not defined"
     ]
    }
   ],
   "source": [
    "from sklearn.model_selection import StratifiedKFold\n",
    "from sklearn.base import clone\n",
    "\n",
    "n_splits = 3\n",
    "skfolds = StratifiedKFold(n_splits)\n",
    "\n",
    "for train_index, test_index in skfolds.split(X_train, y_train):\n",
    "    clone_clf = clone(sgd_clf)\n",
    "    X_train_folds = X_train[train_index]\n",
    "    y_train_folds = y_train[train_index]\n",
    "    X_test_fold = X_train[test_index]\n",
    "    y_test_fold = y_train[test_index]\n",
    "    \n",
    "    clone_clf.fit(X_train_folds, y_train_folds)\n",
    "    y_pred = clone_clf.predict(X_test_fold)\n",
    "    n_correct = sum(y_pred == y_test_fold)\n",
    "    print(n_correct/len(y_pred))"
   ]
  },
  {
   "cell_type": "markdown",
   "id": "5529f5f2",
   "metadata": {},
   "source": [
    "# Extração de dados cotações do yahoo"
   ]
  },
  {
   "cell_type": "code",
   "execution_count": null,
   "id": "1784721f",
   "metadata": {},
   "outputs": [],
   "source": [
    "import pandas as pd\n",
    "import yfinance as yf\n",
    "\n",
    "def extract_prices(stock: str, start_date: str, end_date: str) -> pd.DataFrame:\n",
    "    \"\"\"\n",
    "    This function extracts the historical stock prices of a given stock from the start date to the end date using the yfinance library.\n",
    "    It returns a Pandas DataFrame containing the stock prices.\n",
    "    \n",
    "    Parameters:\n",
    "    stock (str): The stock symbol of the stock to extract prices for.\n",
    "    start_date (str): The start date in the format 'YYYY-MM-DD' for which to extract the stock prices.\n",
    "    end_date (str): The end date in the format 'YYYY-MM-DD' for which to extract the stock prices.\n",
    "    \n",
    "    Returns:\n",
    "    pd.DataFrame: A DataFrame containing the extracted stock prices.\n",
    "    \"\"\"\n",
    "    return yf.download(stock, start=start_date, end=end_date)\n",
    "\n",
    "def to_csv(data: pd.DataFrame, path: str) -> None:\n",
    "    \"\"\"\n",
    "    This function saves the data of a given DataFrame to a csv file at the specified path.\n",
    "    It does not return anything.\n",
    "    \n",
    "    Parameters:\n",
    "    data (pd.DataFrame): The DataFrame containing the data to save.\n",
    "    path (str): The path and file name of the CSV file to save the data to.\n",
    "    \"\"\"\n",
    "    data.to_csv(path, index=False)"
   ]
  },
  {
   "cell_type": "markdown",
   "id": "1e638ade",
   "metadata": {},
   "source": [
    "# plot curva precisão versus revocação"
   ]
  },
  {
   "cell_type": "code",
   "execution_count": 3,
   "id": "306ad6e3",
   "metadata": {},
   "outputs": [],
   "source": [
    "import matplotlib\n",
    "def plot_precision_recall_vs_threshold(precisions: list, recalls: list, thresholds:list ) -> None: \n",
    "    \"\"\"\"\n",
    "    Essa função plota a precisão e a revocação em relação ao limiar (threshold) utilizando matplotlib. É importante notar que precisões e revocações devem ter o mesmo tamanho e ordem de limiares. A função usa as funções plt.plot, plt.xlabel, plt.legend, plt.ylim e plt.grid para plotar o gráfico e plt.show para mostrar o gráfico final.\n",
    "\n",
    "    Parâmetros:\n",
    "        precisions (list): lista de precisões, onde cada elemento representa a precisão para um determinado limiar.\n",
    "        recalls (list): lista de revocações, onde cada elemento representa a revocação para um determinado limiar.\n",
    "        thresholds (list): lista de limiares, usado como eixo x no gráfico.\n",
    "\n",
    "    Retorna:\n",
    "    None\n",
    "    \"\"\"\n",
    "    \n",
    "    plt.plot(thresholds, precisions[:-1], 'b--', label= 'Precision')\n",
    "    plt.plot(thresholds, recalls[:-1], 'g-', label='Recall')\n",
    "    plt.xlabel('Threshold')\n",
    "    plt.legend(loc='center left')\n",
    "    plt.ylim([0, 1])\n",
    "    plt.grid('on')\n",
    "    plt.show()"
   ]
  },
  {
   "cell_type": "markdown",
   "id": "58abc777",
   "metadata": {},
   "source": [
    "# plot curva ROC ( revocação versus especificidade)"
   ]
  },
  {
   "cell_type": "code",
   "execution_count": 5,
   "id": "8c9d531d",
   "metadata": {},
   "outputs": [],
   "source": [
    "def plot_roc_curve(fpr,tpr, label=None):\n",
    "    \"\"\"\n",
    "    plot_roc_curve(fpr, tpr, label=None)\n",
    "\n",
    "    Essa função plota a curva ROC (Receiver Operating Characteristic) utilizando matplotlib. A curva ROC é uma representação gráfica da performance de um classificador binário, mostrando a relação entre a taxa de verdadeiros positivos (TPR) e a taxa de falsos positivos (FPR). A função usa as funções plt.plot, plt.xlabel, plt.ylabel, plt.grid e plt.show para plotar o gráfico e mostrar o gráfico final.\n",
    "\n",
    "    Parâmetros:\n",
    "        fpr (list): lista de taxas de falsos positivos.\n",
    "        tpr (list): lista de taxas de verdadeiros positivos.\n",
    "        label (str, opcional): rótulo para a curva ROC.\n",
    "\n",
    "    Retorna:\n",
    "        None\n",
    "    \"\"\"\n",
    "    plt.plot(fpr, tpr, linewidth=2, label=label)\n",
    "    plt.plot([0,1], [0,1], 'k--')\n",
    "    plt.plot([0,1,0,1])\n",
    "    plt.axis([0,1,0,1])\n",
    "    plt.xlabel('False Positive Rate')\n",
    "    plt.ylabel('True Positive Rate')\n",
    "    plt.grid('on')\n",
    "    plt.show()"
   ]
  },
  {
   "cell_type": "markdown",
   "id": "a374c2ed",
   "metadata": {},
   "source": [
    "## Plot matrix confusão "
   ]
  },
  {
   "cell_type": "code",
   "execution_count": 10,
   "id": "57979429",
   "metadata": {},
   "outputs": [],
   "source": [
    "from sklearn.metrics import ConfusionMatrixDisplay, confusion_matrix\n",
    "\n",
    "def plot_matrix_confusion(y_true, y_pred, model_class):\n",
    "    \"\"\"\n",
    "    plot_matrix_confusion(y_true, y_pred, model_class)\n",
    "\n",
    "    Essa função plota a matriz de confusão utilizando a função ConfusionMatrixDisplay do pacote sklearn.metrics. A matriz de confusão é uma representação gráfica das predições do modelo em relação aos valores verdadeiros. A função usa as funções confusion_matrix e ConfusionMatrixDisplay do pacote sklearn.metrics para plotar a matriz de confusão.\n",
    "\n",
    "    Parâmetros:\n",
    "        y_true (list): lista de valores verdadeiros.\n",
    "        y_pred (list): lista de valores preditos pelo modelo.\n",
    "        model_class (list): lista de classes do modelo, usadas para rotular as linhas e colunas da matriz de confusão.\n",
    "\n",
    "    Retorna:\n",
    "        None\n",
    "    \"\"\"\n",
    "    cfm = confusion_matrix(y_true, y_pred)\n",
    "    cfm_plot = ConfusionMatrixDisplay(confusion_matrix=cfm, display_labels=model_class)\n",
    "    cfm_plot.plot()"
   ]
  },
  {
   "cell_type": "code",
   "execution_count": 6,
   "id": "235b8311",
   "metadata": {},
   "outputs": [],
   "source": []
  },
  {
   "cell_type": "code",
   "execution_count": null,
   "id": "f4828932",
   "metadata": {},
   "outputs": [],
   "source": []
  },
  {
   "cell_type": "code",
   "execution_count": null,
   "id": "ba423b54",
   "metadata": {},
   "outputs": [],
   "source": []
  },
  {
   "cell_type": "code",
   "execution_count": null,
   "id": "bc2936ef",
   "metadata": {},
   "outputs": [],
   "source": []
  }
 ],
 "metadata": {
  "kernelspec": {
   "display_name": "Python 3 (ipykernel)",
   "language": "python",
   "name": "python3"
  },
  "language_info": {
   "codemirror_mode": {
    "name": "ipython",
    "version": 3
   },
   "file_extension": ".py",
   "mimetype": "text/x-python",
   "name": "python",
   "nbconvert_exporter": "python",
   "pygments_lexer": "ipython3",
   "version": "3.9.12"
  }
 },
 "nbformat": 4,
 "nbformat_minor": 5
}
