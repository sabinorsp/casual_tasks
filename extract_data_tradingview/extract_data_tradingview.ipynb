{
 "cells": [
  {
   "cell_type": "markdown",
   "id": "56e26de6",
   "metadata": {},
   "source": [
    "# Extract price datas from TradingView using the tvdatafeed package and Save results on google sheet "
   ]
  },
  {
   "cell_type": "markdown",
   "id": "931c38d2",
   "metadata": {},
   "source": [
    "### Objetive this work: \n",
    "   - Extract data from TradingView using package Tv Data Feed:\n",
    "   [source code](https://github.com/StreamAlpha/tvdatafeed);\n",
    "   - Executing some rule to filter data; \n",
    "   - Saving the results on a sheet in google sheet. "
   ]
  },
  {
   "cell_type": "markdown",
   "id": "b5dab57a",
   "metadata": {},
   "source": [
    "The API of TradingView are avaliable on: https://br.tradingview.com/rest-api-spec/"
   ]
  },
  {
   "cell_type": "markdown",
   "id": "fec9f1fe",
   "metadata": {},
   "source": [
    "## Instructions \n",
    "\n",
    "- install package tv datafeed - pip install --upgrade --no-cache-dir git+https://github.com/StreamAlpha/tvdatafeed.git  \n",
    "- install gspread - pip install gspread\n",
    "- install gsread_dataframe - pip install gspread_dataframe\n",
    "- install pydrive - pip install pydrive\n",
    "- install mplfinance - pip install mplfinance\n",
    "\n",
    "The code source about this package are present in: https://github.com/StreamAlpha/tvdatafeed.  \n",
    "To some examples: https://github.com/StreamAlpha/tvdatafeed/blob/main/tv.ipynb.  "
   ]
  },
  {
   "cell_type": "markdown",
   "id": "2805a3c3",
   "metadata": {},
   "source": [
    "## Import Packages and Load account "
   ]
  },
  {
   "cell_type": "code",
   "execution_count": 3,
   "id": "6620ed7e",
   "metadata": {
    "ExecuteTime": {
     "end_time": "2023-04-07T22:42:17.684568Z",
     "start_time": "2023-04-07T22:42:16.256387Z"
    }
   },
   "outputs": [],
   "source": [
    "import pandas as pd\n",
    "import gspread\n",
    "\n",
    "from datetime import date\n",
    "from tvDatafeed import TvDatafeed, Interval\n",
    "from gspread_dataframe import set_with_dataframe\n",
    "from google.oauth2.service_account import Credentials\n",
    "from pydrive.auth import GoogleAuth\n",
    "from pydrive.drive import GoogleDrive\n",
    "from tqdm import tqdm"
   ]
  },
  {
   "cell_type": "code",
   "execution_count": 4,
   "id": "aec3f8f5",
   "metadata": {
    "ExecuteTime": {
     "end_time": "2023-04-07T22:42:52.972473Z",
     "start_time": "2023-04-07T22:42:52.965962Z"
    }
   },
   "outputs": [
    {
     "name": "stderr",
     "output_type": "stream",
     "text": [
      "you are using nologin method, data you access may be limited\n"
     ]
    }
   ],
   "source": [
    "#First to configure and acess your account on TradingView: \n",
    "username = 'login_tradingview'\n",
    "password = 'password_tradingview'\n",
    "\n",
    "#tv = TvDatafeed(username, password)\n",
    "tv = TvDatafeed()"
   ]
  },
  {
   "cell_type": "markdown",
   "id": "c6b7ab08",
   "metadata": {},
   "source": [
    "## Load datas"
   ]
  },
  {
   "cell_type": "code",
   "execution_count": 5,
   "id": "30c6e8cb",
   "metadata": {
    "ExecuteTime": {
     "end_time": "2023-04-07T22:42:56.960418Z",
     "start_time": "2023-04-07T22:42:56.956234Z"
    }
   },
   "outputs": [],
   "source": [
    "stocks = ['PETR4', 'ITUB3', 'ITSA4', 'BBSE3']"
   ]
  },
  {
   "cell_type": "code",
   "execution_count": 8,
   "id": "5cefd78c",
   "metadata": {
    "ExecuteTime": {
     "end_time": "2023-04-07T22:44:51.212514Z",
     "start_time": "2023-04-07T22:44:47.365293Z"
    }
   },
   "outputs": [
    {
     "name": "stderr",
     "output_type": "stream",
     "text": [
      "100%|█████████████████████████████████████████████| 4/4 [00:03<00:00,  1.05it/s]\n"
     ]
    }
   ],
   "source": [
    "data = pd.DataFrame()\n",
    "for stock in tqdm(stocks):\n",
    "    data = pd.concat([data, \n",
    "                        tv.get_hist(symbol = stock, exchange='BMFBOVESPA', interval=Interval.in_15_minute, n_bars = 100)])"
   ]
  },
  {
   "cell_type": "code",
   "execution_count": 9,
   "id": "647e5262",
   "metadata": {
    "ExecuteTime": {
     "end_time": "2023-04-07T22:44:57.595910Z",
     "start_time": "2023-04-07T22:44:57.556351Z"
    },
    "scrolled": true
   },
   "outputs": [
    {
     "data": {
      "text/html": [
       "<div>\n",
       "<style scoped>\n",
       "    .dataframe tbody tr th:only-of-type {\n",
       "        vertical-align: middle;\n",
       "    }\n",
       "\n",
       "    .dataframe tbody tr th {\n",
       "        vertical-align: top;\n",
       "    }\n",
       "\n",
       "    .dataframe thead th {\n",
       "        text-align: right;\n",
       "    }\n",
       "</style>\n",
       "<table border=\"1\" class=\"dataframe\">\n",
       "  <thead>\n",
       "    <tr style=\"text-align: right;\">\n",
       "      <th></th>\n",
       "      <th>symbol</th>\n",
       "      <th>open</th>\n",
       "      <th>high</th>\n",
       "      <th>low</th>\n",
       "      <th>close</th>\n",
       "      <th>volume</th>\n",
       "    </tr>\n",
       "    <tr>\n",
       "      <th>datetime</th>\n",
       "      <th></th>\n",
       "      <th></th>\n",
       "      <th></th>\n",
       "      <th></th>\n",
       "      <th></th>\n",
       "      <th></th>\n",
       "    </tr>\n",
       "  </thead>\n",
       "  <tbody>\n",
       "    <tr>\n",
       "      <th>2023-04-03 16:00:00</th>\n",
       "      <td>BMFBOVESPA:PETR4</td>\n",
       "      <td>24.38</td>\n",
       "      <td>24.44</td>\n",
       "      <td>24.36</td>\n",
       "      <td>24.42</td>\n",
       "      <td>2150100.0</td>\n",
       "    </tr>\n",
       "    <tr>\n",
       "      <th>2023-04-03 16:15:00</th>\n",
       "      <td>BMFBOVESPA:PETR4</td>\n",
       "      <td>24.42</td>\n",
       "      <td>24.49</td>\n",
       "      <td>24.42</td>\n",
       "      <td>24.46</td>\n",
       "      <td>2936100.0</td>\n",
       "    </tr>\n",
       "    <tr>\n",
       "      <th>2023-04-03 16:30:00</th>\n",
       "      <td>BMFBOVESPA:PETR4</td>\n",
       "      <td>24.46</td>\n",
       "      <td>24.47</td>\n",
       "      <td>24.35</td>\n",
       "      <td>24.43</td>\n",
       "      <td>3377000.0</td>\n",
       "    </tr>\n",
       "    <tr>\n",
       "      <th>2023-04-03 16:45:00</th>\n",
       "      <td>BMFBOVESPA:PETR4</td>\n",
       "      <td>24.43</td>\n",
       "      <td>24.50</td>\n",
       "      <td>24.41</td>\n",
       "      <td>24.48</td>\n",
       "      <td>2790900.0</td>\n",
       "    </tr>\n",
       "    <tr>\n",
       "      <th>2023-04-03 17:00:00</th>\n",
       "      <td>BMFBOVESPA:PETR4</td>\n",
       "      <td>24.49</td>\n",
       "      <td>24.49</td>\n",
       "      <td>24.49</td>\n",
       "      <td>24.49</td>\n",
       "      <td>3830800.0</td>\n",
       "    </tr>\n",
       "  </tbody>\n",
       "</table>\n",
       "</div>"
      ],
      "text/plain": [
       "                               symbol   open   high    low  close     volume\n",
       "datetime                                                                    \n",
       "2023-04-03 16:00:00  BMFBOVESPA:PETR4  24.38  24.44  24.36  24.42  2150100.0\n",
       "2023-04-03 16:15:00  BMFBOVESPA:PETR4  24.42  24.49  24.42  24.46  2936100.0\n",
       "2023-04-03 16:30:00  BMFBOVESPA:PETR4  24.46  24.47  24.35  24.43  3377000.0\n",
       "2023-04-03 16:45:00  BMFBOVESPA:PETR4  24.43  24.50  24.41  24.48  2790900.0\n",
       "2023-04-03 17:00:00  BMFBOVESPA:PETR4  24.49  24.49  24.49  24.49  3830800.0"
      ]
     },
     "execution_count": 9,
     "metadata": {},
     "output_type": "execute_result"
    }
   ],
   "source": [
    "data.head()"
   ]
  },
  {
   "cell_type": "code",
   "execution_count": 10,
   "id": "47543cd9",
   "metadata": {
    "ExecuteTime": {
     "end_time": "2023-04-07T22:45:00.556030Z",
     "start_time": "2023-04-07T22:45:00.548668Z"
    }
   },
   "outputs": [
    {
     "data": {
      "text/plain": [
       "(400, 6)"
      ]
     },
     "execution_count": 10,
     "metadata": {},
     "output_type": "execute_result"
    }
   ],
   "source": [
    "data.shape"
   ]
  },
  {
   "cell_type": "markdown",
   "id": "d2c3480b",
   "metadata": {},
   "source": [
    "## Processing data"
   ]
  },
  {
   "cell_type": "markdown",
   "id": "ca24e2c7",
   "metadata": {},
   "source": [
    "The objetive are to extract just data with the price open is equal low."
   ]
  },
  {
   "cell_type": "code",
   "execution_count": 11,
   "id": "ca391120",
   "metadata": {
    "ExecuteTime": {
     "end_time": "2023-04-07T22:45:07.661997Z",
     "start_time": "2023-04-07T22:45:07.654950Z"
    }
   },
   "outputs": [],
   "source": [
    "tolerance = 0.0 # tolerance to open is higer than low price\n",
    "cond = (data.open >= data.low) & (data.open <= data.low*(1+tolerance))"
   ]
  },
  {
   "cell_type": "code",
   "execution_count": 12,
   "id": "5edeeb3f",
   "metadata": {
    "ExecuteTime": {
     "end_time": "2023-04-07T22:45:09.645997Z",
     "start_time": "2023-04-07T22:45:09.632542Z"
    }
   },
   "outputs": [
    {
     "data": {
      "text/plain": [
       "(79, 7)"
      ]
     },
     "execution_count": 12,
     "metadata": {},
     "output_type": "execute_result"
    }
   ],
   "source": [
    "select_data = data[cond].reset_index()\n",
    "select_data.shape"
   ]
  },
  {
   "cell_type": "code",
   "execution_count": 13,
   "id": "2e9bcc5a",
   "metadata": {
    "ExecuteTime": {
     "end_time": "2023-04-07T22:45:12.761959Z",
     "start_time": "2023-04-07T22:45:12.722388Z"
    },
    "scrolled": true
   },
   "outputs": [
    {
     "data": {
      "text/html": [
       "<div>\n",
       "<style scoped>\n",
       "    .dataframe tbody tr th:only-of-type {\n",
       "        vertical-align: middle;\n",
       "    }\n",
       "\n",
       "    .dataframe tbody tr th {\n",
       "        vertical-align: top;\n",
       "    }\n",
       "\n",
       "    .dataframe thead th {\n",
       "        text-align: right;\n",
       "    }\n",
       "</style>\n",
       "<table border=\"1\" class=\"dataframe\">\n",
       "  <thead>\n",
       "    <tr style=\"text-align: right;\">\n",
       "      <th></th>\n",
       "      <th>datetime</th>\n",
       "      <th>open</th>\n",
       "      <th>high</th>\n",
       "      <th>low</th>\n",
       "      <th>close</th>\n",
       "      <th>volume</th>\n",
       "    </tr>\n",
       "    <tr>\n",
       "      <th>symbol</th>\n",
       "      <th></th>\n",
       "      <th></th>\n",
       "      <th></th>\n",
       "      <th></th>\n",
       "      <th></th>\n",
       "      <th></th>\n",
       "    </tr>\n",
       "  </thead>\n",
       "  <tbody>\n",
       "    <tr>\n",
       "      <th>BMFBOVESPA:PETR4</th>\n",
       "      <td>2023-04-03 16:15:00</td>\n",
       "      <td>24.42</td>\n",
       "      <td>24.49</td>\n",
       "      <td>24.42</td>\n",
       "      <td>24.46</td>\n",
       "      <td>2936100.0</td>\n",
       "    </tr>\n",
       "    <tr>\n",
       "      <th>BMFBOVESPA:PETR4</th>\n",
       "      <td>2023-04-03 17:00:00</td>\n",
       "      <td>24.49</td>\n",
       "      <td>24.49</td>\n",
       "      <td>24.49</td>\n",
       "      <td>24.49</td>\n",
       "      <td>3830800.0</td>\n",
       "    </tr>\n",
       "    <tr>\n",
       "      <th>BMFBOVESPA:PETR4</th>\n",
       "      <td>2023-04-04 17:00:00</td>\n",
       "      <td>24.27</td>\n",
       "      <td>24.27</td>\n",
       "      <td>24.27</td>\n",
       "      <td>24.27</td>\n",
       "      <td>5336800.0</td>\n",
       "    </tr>\n",
       "    <tr>\n",
       "      <th>BMFBOVESPA:PETR4</th>\n",
       "      <td>2023-04-05 14:00:00</td>\n",
       "      <td>23.96</td>\n",
       "      <td>24.05</td>\n",
       "      <td>23.96</td>\n",
       "      <td>23.98</td>\n",
       "      <td>1042900.0</td>\n",
       "    </tr>\n",
       "    <tr>\n",
       "      <th>BMFBOVESPA:PETR4</th>\n",
       "      <td>2023-04-05 15:00:00</td>\n",
       "      <td>24.25</td>\n",
       "      <td>24.39</td>\n",
       "      <td>24.25</td>\n",
       "      <td>24.32</td>\n",
       "      <td>2857600.0</td>\n",
       "    </tr>\n",
       "    <tr>\n",
       "      <th>...</th>\n",
       "      <td>...</td>\n",
       "      <td>...</td>\n",
       "      <td>...</td>\n",
       "      <td>...</td>\n",
       "      <td>...</td>\n",
       "      <td>...</td>\n",
       "    </tr>\n",
       "    <tr>\n",
       "      <th>BMFBOVESPA:BBSE3</th>\n",
       "      <td>2023-04-05 17:45:00</td>\n",
       "      <td>32.70</td>\n",
       "      <td>32.73</td>\n",
       "      <td>32.70</td>\n",
       "      <td>32.72</td>\n",
       "      <td>800.0</td>\n",
       "    </tr>\n",
       "    <tr>\n",
       "      <th>BMFBOVESPA:BBSE3</th>\n",
       "      <td>2023-04-06 10:00:00</td>\n",
       "      <td>32.47</td>\n",
       "      <td>33.47</td>\n",
       "      <td>32.47</td>\n",
       "      <td>33.45</td>\n",
       "      <td>550800.0</td>\n",
       "    </tr>\n",
       "    <tr>\n",
       "      <th>BMFBOVESPA:BBSE3</th>\n",
       "      <td>2023-04-06 11:45:00</td>\n",
       "      <td>33.27</td>\n",
       "      <td>33.78</td>\n",
       "      <td>33.27</td>\n",
       "      <td>33.74</td>\n",
       "      <td>620100.0</td>\n",
       "    </tr>\n",
       "    <tr>\n",
       "      <th>BMFBOVESPA:BBSE3</th>\n",
       "      <td>2023-04-06 17:00:00</td>\n",
       "      <td>34.05</td>\n",
       "      <td>34.05</td>\n",
       "      <td>34.05</td>\n",
       "      <td>34.05</td>\n",
       "      <td>766900.0</td>\n",
       "    </tr>\n",
       "    <tr>\n",
       "      <th>BMFBOVESPA:BBSE3</th>\n",
       "      <td>2023-04-06 17:45:00</td>\n",
       "      <td>34.05</td>\n",
       "      <td>34.09</td>\n",
       "      <td>34.05</td>\n",
       "      <td>34.06</td>\n",
       "      <td>11900.0</td>\n",
       "    </tr>\n",
       "  </tbody>\n",
       "</table>\n",
       "<p>79 rows × 6 columns</p>\n",
       "</div>"
      ],
      "text/plain": [
       "                            datetime   open   high    low  close     volume\n",
       "symbol                                                                     \n",
       "BMFBOVESPA:PETR4 2023-04-03 16:15:00  24.42  24.49  24.42  24.46  2936100.0\n",
       "BMFBOVESPA:PETR4 2023-04-03 17:00:00  24.49  24.49  24.49  24.49  3830800.0\n",
       "BMFBOVESPA:PETR4 2023-04-04 17:00:00  24.27  24.27  24.27  24.27  5336800.0\n",
       "BMFBOVESPA:PETR4 2023-04-05 14:00:00  23.96  24.05  23.96  23.98  1042900.0\n",
       "BMFBOVESPA:PETR4 2023-04-05 15:00:00  24.25  24.39  24.25  24.32  2857600.0\n",
       "...                              ...    ...    ...    ...    ...        ...\n",
       "BMFBOVESPA:BBSE3 2023-04-05 17:45:00  32.70  32.73  32.70  32.72      800.0\n",
       "BMFBOVESPA:BBSE3 2023-04-06 10:00:00  32.47  33.47  32.47  33.45   550800.0\n",
       "BMFBOVESPA:BBSE3 2023-04-06 11:45:00  33.27  33.78  33.27  33.74   620100.0\n",
       "BMFBOVESPA:BBSE3 2023-04-06 17:00:00  34.05  34.05  34.05  34.05   766900.0\n",
       "BMFBOVESPA:BBSE3 2023-04-06 17:45:00  34.05  34.09  34.05  34.06    11900.0\n",
       "\n",
       "[79 rows x 6 columns]"
      ]
     },
     "execution_count": 13,
     "metadata": {},
     "output_type": "execute_result"
    }
   ],
   "source": [
    "select_data.set_index('symbol')"
   ]
  },
  {
   "cell_type": "code",
   "execution_count": 14,
   "id": "d1c2abea",
   "metadata": {
    "ExecuteTime": {
     "end_time": "2023-04-07T22:45:22.101393Z",
     "start_time": "2023-04-07T22:45:22.095373Z"
    }
   },
   "outputs": [],
   "source": [
    "select_data.datetime = select_data.datetime.astype('str')"
   ]
  },
  {
   "cell_type": "markdown",
   "id": "30a08fdd",
   "metadata": {
    "heading_collapsed": true
   },
   "source": [
    "## Save results on GoogleSheet"
   ]
  },
  {
   "cell_type": "markdown",
   "id": "820213ad",
   "metadata": {
    "hidden": true
   },
   "source": [
    "**Criar uma função para encapsular essa função também**"
   ]
  },
  {
   "cell_type": "code",
   "execution_count": 150,
   "id": "2e74a89d",
   "metadata": {
    "ExecuteTime": {
     "end_time": "2023-04-07T19:59:28.949939Z",
     "start_time": "2023-04-07T19:59:28.942975Z"
    },
    "hidden": true
   },
   "outputs": [],
   "source": [
    "# Configure token and sheet id\n",
    "json_file = 'your_file_json_toconnectgooglecloud'\n",
    "sheet_id = 'id_of_google_sheet'"
   ]
  },
  {
   "cell_type": "code",
   "execution_count": 151,
   "id": "8221185c",
   "metadata": {
    "ExecuteTime": {
     "end_time": "2023-04-07T19:59:31.859823Z",
     "start_time": "2023-04-07T19:59:30.808526Z"
    },
    "hidden": true
   },
   "outputs": [],
   "source": [
    "scopes = ['https://www.googleapis.com/auth/spreadsheets',\n",
    "          'https://www.googleapis.com/auth/drive']\n",
    "\n",
    "credentials = Credentials.from_service_account_file(json_file, scopes=scopes)\n",
    "\n",
    "gc = gspread.authorize(credentials)\n",
    "\n",
    "gauth = GoogleAuth()\n",
    "drive = GoogleDrive(gauth)\n",
    "\n",
    "# open a google sheet\n",
    "gs = gc.open_by_key(sheet_id)\n",
    "\n",
    "# select a work sheet from its name\n",
    "worksheet1 = gs.worksheet('Página1')"
   ]
  },
  {
   "cell_type": "code",
   "execution_count": 149,
   "id": "418d2500",
   "metadata": {
    "ExecuteTime": {
     "end_time": "2023-04-07T19:59:12.659805Z",
     "start_time": "2023-04-07T19:59:11.827980Z"
    },
    "hidden": true
   },
   "outputs": [],
   "source": [
    "set_with_dataframe(worksheet=worksheet1, dataframe=select_data.sample(20), include_index=False,\n",
    "                   include_column_header=True, resize=True)"
   ]
  },
  {
   "cell_type": "code",
   "execution_count": null,
   "id": "4a5790ae",
   "metadata": {
    "hidden": true
   },
   "outputs": [],
   "source": []
  }
 ],
 "metadata": {
  "kernelspec": {
   "display_name": "Python 3 (ipykernel)",
   "language": "python",
   "name": "python3"
  },
  "language_info": {
   "codemirror_mode": {
    "name": "ipython",
    "version": 3
   },
   "file_extension": ".py",
   "mimetype": "text/x-python",
   "name": "python",
   "nbconvert_exporter": "python",
   "pygments_lexer": "ipython3",
   "version": "3.9.12"
  }
 },
 "nbformat": 4,
 "nbformat_minor": 5
}
