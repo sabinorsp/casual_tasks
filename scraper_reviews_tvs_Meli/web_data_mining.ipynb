{
 "cells": [
  {
   "attachments": {},
   "cell_type": "markdown",
   "metadata": {},
   "source": [
    "# Scraper reviews Meli"
   ]
  },
  {
   "cell_type": "code",
   "execution_count": null,
   "metadata": {},
   "outputs": [],
   "source": [
    "import requests\n",
    "import time\n",
    "import json\n",
    "import csv\n",
    "from tqdm import tqdm\n",
    "from bs4 import BeautifulSoup"
   ]
  },
  {
   "cell_type": "code",
   "execution_count": null,
   "metadata": {},
   "outputs": [],
   "source": [
    "# Function to get all product link\n",
    "def getLinks(product_name):\n",
    "    url = 'https://lista.mercadolivre.com.br/'\n",
    "    links = []\n",
    "    response = requests.get(url+product_name)\n",
    "    bs = BeautifulSoup(response.content, 'html.parser')\n",
    "    total_page = int(bs.\n",
    "              find_all('li', {'class':'andes-pagination__page-count'})[0].\n",
    "              get_text().\n",
    "              replace('de ','')\n",
    "              )\n",
    "    \n",
    "    for page in tqdm(range(total_page-1)):\n",
    "        links.append(bs.find_all('a',{'class':'ui-search-item__group__element shops__items-group-details ui-search-link'}))\n",
    "        next_page = bs.find_all('a',{'title':'Seguinte'})\n",
    "        resp = requests.get(next_page[0]['href'])\n",
    "        bs = BeautifulSoup(resp.content,'html.parser')\n",
    "        time.sleep(5)\n",
    "    return links"
   ]
  },
  {
   "cell_type": "code",
   "execution_count": null,
   "metadata": {},
   "outputs": [],
   "source": [
    "# Function to get all reviews by one product\n",
    "def get_reviews_page(url_request):\n",
    "    n = 1\n",
    "    while True:\n",
    "        response = requests.get(url_request+str(n)+'&x-is-webview=false')\n",
    "        if response.status_code != 400: \n",
    "            n += 1\n",
    "        else:\n",
    "            break\n",
    "    response = requests.get(url_request+str(n-1)+'&x-is-webview=false')\n",
    "    data = json.loads(response.text)\n",
    "    reviews = []\n",
    "    for index in range(len(data['reviews'])):\n",
    "        reviews.append(data['reviews'][index]['comment']['content']['text'])\n",
    "    return reviews"
   ]
  },
  {
   "cell_type": "code",
   "execution_count": null,
   "metadata": {},
   "outputs": [],
   "source": [
    "# Function to select the correct product id\n",
    "def get_id_product(product):\n",
    "    if product['href'].split('.')[0] == 'https://www':\n",
    "        return product['href'].split('/')[-1].split('?')[0]\n",
    "    elif product['href'].split('.')[0] == 'https://produto':\n",
    "        return product['href'].split('/')[3].split('-')[0] + product['href'].split('/')[3].split('-')[1]\n",
    "    return None"
   ]
  },
  {
   "cell_type": "code",
   "execution_count": null,
   "metadata": {},
   "outputs": [],
   "source": [
    "# Function to get all reviews\n",
    "def get_all_reviews(products_links):\n",
    "    total_reviews = []\n",
    "    for page in tqdm(products_links):\n",
    "        product_ids = [get_id_product(product) for product in page]\n",
    "        product_ids = [p_id for p_id in product_ids if p_id is not None]\n",
    "        \n",
    "        url_requests = [f'https://www.mercadolivre.com.br/noindex/catalog/reviews/{p_id}/search?objectId={p_id}&siteId=MLB&isItem=false&limit=' for p_id in product_ids]\n",
    "\n",
    "        reviews = [get_reviews_page(url) for url in url_requests]\n",
    "        total_reviews.extend(reviews)\n",
    "    return total_reviews\n"
   ]
  },
  {
   "cell_type": "code",
   "execution_count": null,
   "metadata": {},
   "outputs": [],
   "source": [
    "products_links = getLinks('tv-smart')"
   ]
  },
  {
   "cell_type": "code",
   "execution_count": null,
   "metadata": {},
   "outputs": [],
   "source": [
    "reviews = get_all_reviews(products_link[:15])\n",
    "# Open a CSV file for writing\n",
    "with open('reviews-15-all.csv', 'w', newline='') as file:\n",
    "    writer = csv.writer(file)\n",
    "\n",
    "    # Write each row in the list as a new line in the CSV file\n",
    "    for row in reviews:\n",
    "        writer.writerow(row)"
   ]
  },
  {
   "attachments": {},
   "cell_type": "markdown",
   "metadata": {},
   "source": [
    "# End"
   ]
  }
 ],
 "metadata": {
  "kernelspec": {
   "display_name": "env",
   "language": "python",
   "name": "python3"
  },
  "language_info": {
   "codemirror_mode": {
    "name": "ipython",
    "version": 3
   },
   "file_extension": ".py",
   "mimetype": "text/x-python",
   "name": "python",
   "nbconvert_exporter": "python",
   "pygments_lexer": "ipython3",
   "version": "3.9.7"
  },
  "orig_nbformat": 4
 },
 "nbformat": 4,
 "nbformat_minor": 2
}
